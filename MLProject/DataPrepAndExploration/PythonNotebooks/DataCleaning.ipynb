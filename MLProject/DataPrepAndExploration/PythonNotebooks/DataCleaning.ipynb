{
 "cells": [
  {
   "cell_type": "markdown",
   "id": "586bd066-a97c-42d0-b05e-487963d7d212",
   "metadata": {},
   "source": [
    "# Data Cleaning "
   ]
  },
  {
   "cell_type": "markdown",
   "id": "1f7c5a36-6349-486f-8f3a-c01627aafd06",
   "metadata": {},
   "source": [
    "In this notebook we will explore data cleaning methodology"
   ]
  },
  {
   "cell_type": "code",
   "execution_count": 1,
   "id": "0b7d2bb5-ce9f-464c-9682-d1d86fa0f203",
   "metadata": {},
   "outputs": [],
   "source": [
    "# Imports"
   ]
  },
  {
   "cell_type": "markdown",
   "id": "1f2be950-03ec-42da-808c-0d7cb78cc5ba",
   "metadata": {},
   "source": [
    "### Read the data"
   ]
  },
  {
   "cell_type": "code",
   "execution_count": null,
   "id": "d61041e8-5f1b-4667-8a19-801be638e536",
   "metadata": {},
   "outputs": [],
   "source": []
  }
 ],
 "metadata": {
  "kernelspec": {
   "display_name": "Python 3 (ipykernel)",
   "language": "python",
   "name": "python3"
  },
  "language_info": {
   "codemirror_mode": {
    "name": "ipython",
    "version": 3
   },
   "file_extension": ".py",
   "mimetype": "text/x-python",
   "name": "python",
   "nbconvert_exporter": "python",
   "pygments_lexer": "ipython3",
   "version": "3.7.7"
  }
 },
 "nbformat": 4,
 "nbformat_minor": 5
}
