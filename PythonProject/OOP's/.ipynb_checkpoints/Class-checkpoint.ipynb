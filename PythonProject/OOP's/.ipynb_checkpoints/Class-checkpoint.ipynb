{
 "cells": [
  {
   "cell_type": "markdown",
   "metadata": {},
   "source": [
    "Class example:"
   ]
  },
  {
   "cell_type": "code",
   "execution_count": null,
   "metadata": {},
   "outputs": [],
   "source": [
    "class FirstClass:\n",
    "    def setdata(self,value):\n",
    "        self.data = value\n",
    "    def display(self):\n",
    "        print(self.data)\n",
    "\n",
    "o = FirstClass()\n",
    "o.setdata(\"Hello world\")\n",
    "o.display()"
   ]
  },
  {
   "cell_type": "markdown",
   "metadata": {},
   "source": [
    "Inheritance example:"
   ]
  },
  {
   "cell_type": "code",
   "execution_count": null,
   "metadata": {},
   "outputs": [],
   "source": [
    "class SecondClass(FirstClass):\n",
    "    def display(self):\n",
    "        print('Current value= \"%s\"' %self.data)\n",
    "\n",
    "oo = SecondClass()\n",
    "oo.setdata(42)\n",
    "oo.display()"
   ]
  },
  {
   "cell_type": "code",
   "execution_count": 9,
   "metadata": {},
   "outputs": [
    {
     "name": "stdout",
     "output_type": "stream",
     "text": [
      "('Bob Smith', 0)\n",
      "('sue Jones', 10000)\n",
      "{'__module__': '__main__', 'giveRaise': <function giveRaise at 0x7f690cd0b7d0>, 'lastName': <function lastName at 0x7f690cd0bad0>, '__str__': <function __str__ at 0x7f690cd0b250>, '__doc__': None, '__init__': <function __init__ at 0x7f690cd0b650>}\n",
      "Smith\n",
      "None\n",
      "11000\n",
      "[Person: Bob Smith, 0]\n"
     ]
    }
   ],
   "source": [
    "class Person:\n",
    "    def __init__(self, name, job=None, pay=0):\n",
    "        self.name = name\n",
    "        self.job = job\n",
    "        self.pay = pay\n",
    "    def lastName(self):\n",
    "        return self.name.split()[-1]\n",
    "    def giveRaise(self, percent):\n",
    "        self.pay = int(self.pay * (1 + percent))\n",
    "    def __str__(self):\n",
    "        return '[Person: %s, %s]' % (self.name, self.pay)\n",
    "\n",
    "if __name__ == '__main__':\n",
    "    bob = Person('Bob Smith')\n",
    "    sue = Person('sue Jones', job='dev', pay=10000)\n",
    "    print(bob.name, bob.pay)\n",
    "    print(sue.name, sue.pay)\n",
    "    #to print methods of class use __dict__ or dict(Person)\n",
    "    print(Person.__dict__)\n",
    "    print(bob.lastName())\n",
    "    print(sue.giveRaise(.10))\n",
    "    print(sue.pay)\n",
    "    print(bob.__str__())\n",
    "\n",
    "class Manager(Person):\n",
    "    def giveRaise(self, percent, bonus=.10):\n",
    "        self.pay = int(self.pay * (1+percent+bonus))\n",
    "        #bad way since we have to maintain at two"
   ]
  },
  {
   "cell_type": "markdown",
   "metadata": {},
   "source": [
    "# Inner Functions"
   ]
  },
  {
   "cell_type": "code",
   "execution_count": 10,
   "metadata": {},
   "outputs": [
    {
     "name": "stdout",
     "output_type": "stream",
     "text": [
      "outer fun\n",
      "inner fun\n",
      "None\n",
      "outer class...\n",
      "inner\n",
      "<__main__.outer instance at 0x7f690ce0b280>\n",
      "__main__.inner\n",
      "outer fun\n",
      "inner fun\n",
      "None\n"
     ]
    }
   ],
   "source": [
    "def outer():\n",
    "    print (\"outer fun\")\n",
    "    def inner():\n",
    "        print (\"inner fun\")\n",
    "    return inner()\n",
    "x = outer();\n",
    "\n",
    "print (x)\n",
    "\n",
    "\n",
    "class outer:\n",
    "    print (\"outer class...\")\n",
    "    def outerfun(self):\n",
    "        print (\"outer fun\")\n",
    "\n",
    "        def innerfun(self):\n",
    "            print (\"inner fun\")\n",
    "        return innerfun(self)\n",
    "    class inner:\n",
    "        print (\"inner\")\n",
    "\n",
    "\n",
    "y = outer()\n",
    "print y\n",
    "yy = y.inner\n",
    "print yy\n",
    "print (y.outerfun())"
   ]
  }
 ],
 "metadata": {
  "kernelspec": {
   "display_name": "Python 2",
   "language": "python",
   "name": "python2"
  },
  "language_info": {
   "codemirror_mode": {
    "name": "ipython",
    "version": 2
   },
   "file_extension": ".py",
   "mimetype": "text/x-python",
   "name": "python",
   "nbconvert_exporter": "python",
   "pygments_lexer": "ipython2",
   "version": "2.7.18"
  }
 },
 "nbformat": 4,
 "nbformat_minor": 2
}
