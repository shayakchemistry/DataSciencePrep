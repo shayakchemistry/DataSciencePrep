{
 "cells": [
  {
   "cell_type": "markdown",
   "metadata": {},
   "source": [
    "# Method Overiding \n",
    "Overriding is the property of a class to change the implementation of a method provided by one of its base classes.\n",
    "\n",
    "Overriding is a very important part of OOP since it makes inheritance utilize its full power. By using method overriding a class may \"copy\" another class, avoiding duplicated code, and at the same time enhance or customize part of it. Method overriding is thus a part of the inheritance mechanism.\n",
    "\n",
    "In Python method overriding occurs by simply defining in the child class  a method with the same name of a method in the parent class. When you  define a method in the object you make this latter able to satisfy that  method call, so the implementations of its ancestors do not come in  play."
   ]
  },
  {
   "cell_type": "code",
   "execution_count": 11,
   "metadata": {},
   "outputs": [
    {
     "name": "stdout",
     "output_type": "stream",
     "text": [
      "5\n",
      "4\n"
     ]
    }
   ],
   "source": [
    "class Parent(object):\n",
    "    def __init__(self):\n",
    "        self.value = 4            \n",
    "    def get_value(self):\n",
    "        return self.value\n",
    "\n",
    "class Child(Parent):\n",
    "    def get_value(self):\n",
    "        return self.value + 1\n",
    "\n",
    "c = Child()\n",
    "print(c.get_value())\n",
    "\n",
    "p = Parent()\n",
    "print(p.get_value())"
   ]
  }
 ],
 "metadata": {
  "kernelspec": {
   "display_name": "Python 3",
   "language": "python",
   "name": "python3"
  },
  "language_info": {
   "codemirror_mode": {
    "name": "ipython",
    "version": 3
   },
   "file_extension": ".py",
   "mimetype": "text/x-python",
   "name": "python",
   "nbconvert_exporter": "python",
   "pygments_lexer": "ipython3",
   "version": "3.8.5"
  }
 },
 "nbformat": 4,
 "nbformat_minor": 2
}
