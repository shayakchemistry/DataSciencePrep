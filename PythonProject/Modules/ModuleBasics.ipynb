{
 "cells": [
  {
   "cell_type": "markdown",
   "metadata": {},
   "source": [
    "# Module Creation\n",
    "To create module, create a file with .py extension. Such files are automatically considered as python modules.\n",
    "Please refer to module1.py file in this dir. "
   ]
  },
  {
   "cell_type": "markdown",
   "metadata": {},
   "source": [
    "# Module \n",
    "A client can utilise the module either by import or from. The chief difference is that import fetches the module as a whole, so you must qualify to fetch its names; in contrast, from fetches (or copies) specific names out of the module."
   ]
  },
  {
   "cell_type": "markdown",
   "metadata": {},
   "source": [
    "# Import statement\n",
    "Because import gives a name that refers to the whole module object, we must go through the module name to fetch its attributes (e.g., module1.printer )."
   ]
  },
  {
   "cell_type": "code",
   "execution_count": 2,
   "metadata": {},
   "outputs": [
    {
     "name": "stdout",
     "output_type": "stream",
     "text": [
      "hello Prashanth\n"
     ]
    }
   ],
   "source": [
    "import module1\n",
    "module1.printer(\"hello Prashanth\")"
   ]
  },
  {
   "cell_type": "markdown",
   "metadata": {},
   "source": [
    "# From Statement\n",
    "By contrast, because from also copies names from one file over to another scope, it allows us to use the copied names directly in the script without going through the module (e.g., printer ):"
   ]
  },
  {
   "cell_type": "code",
   "execution_count": 3,
   "metadata": {},
   "outputs": [
    {
     "name": "stdout",
     "output_type": "stream",
     "text": [
      "Hello world!\n"
     ]
    }
   ],
   "source": [
    "from module1 import printer #copies only one vairable printer\n",
    "printer('Hello world!') #no need to qualify name\n",
    "\n",
    "#using of from module import * imports all variables."
   ]
  },
  {
   "cell_type": "markdown",
   "metadata": {},
   "source": [
    "# Imports happens only once\n",
    "Modules are loaded and run on the first import or from , and only the first. This is on purpose—because importing is an expensive operation, by default Python does it just once per file, per process."
   ]
  },
  {
   "cell_type": "code",
   "execution_count": 10,
   "metadata": {},
   "outputs": [],
   "source": [
    "import simple        #print the hello msg only once per file load. \n",
    "print(simple.spam) \n",
    "#In this example, the print and = statements run the first time the module is imported,\n",
    "#and the variable spam is initialized at import time:"
   ]
  },
  {
   "cell_type": "markdown",
   "metadata": {},
   "source": [
    "Second and later imports only fetch the already created module object from Python’s internal modules table. Thus, the variable spam is not reinitialized:"
   ]
  },
  {
   "cell_type": "code",
   "execution_count": 15,
   "metadata": {
    "scrolled": true
   },
   "outputs": [
    {
     "data": {
      "text/plain": [
       "2"
      ]
     },
     "execution_count": 15,
     "metadata": {},
     "output_type": "execute_result"
    }
   ],
   "source": [
    "simple.spam = 2 # Change attribute in module\n",
    "import simple   # Just fetches already loaded module\n",
    "simple.spam     # Code wasn't rerun: attribute unchanged"
   ]
  },
  {
   "cell_type": "markdown",
   "metadata": {},
   "source": [
    "# Reloading of modules"
   ]
  },
  {
   "cell_type": "code",
   "execution_count": null,
   "metadata": {},
   "outputs": [],
   "source": [
    "reload(simple)\n",
    "simple.spam"
   ]
  }
 ],
 "metadata": {
  "kernelspec": {
   "display_name": "Python 2",
   "language": "python",
   "name": "python2"
  },
  "language_info": {
   "codemirror_mode": {
    "name": "ipython",
    "version": 2
   },
   "file_extension": ".py",
   "mimetype": "text/x-python",
   "name": "python",
   "nbconvert_exporter": "python",
   "pygments_lexer": "ipython2",
   "version": "2.7.18"
  }
 },
 "nbformat": 4,
 "nbformat_minor": 2
}
