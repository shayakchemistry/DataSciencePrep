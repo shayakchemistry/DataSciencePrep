{
 "cells": [
  {
   "cell_type": "markdown",
   "metadata": {},
   "source": [
    "Lists are positionally ordered collections of arbitrarily typed objects, and they have no fixed size.\n",
    "They are also mutable—unlike strings, lists can be modified in-place by assignment to\n",
    "offsets as well as a variety of list method calls.\n"
   ]
  },
  {
   "cell_type": "code",
   "execution_count": 2,
   "metadata": {
    "scrolled": true
   },
   "outputs": [
    {
     "name": "stdout",
     "output_type": "stream",
     "text": [
      "[123, 'abc', 0.12]\n",
      "[123, 'abc', 0.12, 'a']\n",
      "[123, 'abc', 'a']\n"
     ]
    }
   ],
   "source": [
    "L = [123,\"abc\", 0.12] #syntax for list\n",
    "print(L)\n",
    "L.append('a')       #adding new elements into list\n",
    "print(L)\n",
    "L.pop(2)            #removing elements\n",
    "print(L)"
   ]
  },
  {
   "cell_type": "markdown",
   "metadata": {},
   "source": [
    "# List Comprehensions"
   ]
  },
  {
   "cell_type": "markdown",
   "metadata": {},
   "source": [
    "List Comprehensions are used to create new lists from other iterables. They contain expressions enclosed in brackets, which is executed for each element along with the for loops to iterate over each element.\n",
    "new_list = [expressions for loop one or more conditions]"
   ]
  },
  {
   "cell_type": "code",
   "execution_count": 5,
   "metadata": {},
   "outputs": [
    {
     "name": "stdout",
     "output_type": "stream",
     "text": [
      "[1, 4, 9, 16, 25]\n",
      "[1, 4, 9, 16, 25]\n"
     ]
    }
   ],
   "source": [
    "#find squares of numbers in list. #regular way of doing.\n",
    "nums = [1,2,3,4,5]\n",
    "squares = []\n",
    "\n",
    "for n in nums:\n",
    "    squares.append(n**2)\n",
    "\n",
    "print(squares)\n",
    "\n",
    "#using comprehensions.\n",
    "sq = [n**2 for n in nums]    \n",
    "print(sq)"
   ]
  },
  {
   "cell_type": "markdown",
   "metadata": {},
   "source": [
    "In this statement \"sq = [n**2 for n in nums].\", n**2 is our operation and we are applying that on each element of iterator."
   ]
  },
  {
   "cell_type": "code",
   "execution_count": 16,
   "metadata": {},
   "outputs": [
    {
     "name": "stdout",
     "output_type": "stream",
     "text": [
      "[2, 6]\n",
      "[2, 6]\n",
      "[(1, 2), (1, 7), (1, 6), (1, 9), (1, 0), (2, 7), (2, 6), (2, 9), (2, 0), (5, 2), (5, 7), (5, 6), (5, 9), (5, 0), (6, 2), (6, 7), (6, 9), (6, 0), (4, 2), (4, 7), (4, 6), (4, 9), (4, 0)]\n"
     ]
    }
   ],
   "source": [
    "#Finding common numbers from two lists. # regular way\n",
    "list1 = [1,2,5,6,4]\n",
    "list2 = [2,7,6,9,0]\n",
    "result = []\n",
    "\n",
    "for a in list1:\n",
    "    for b in list2:\n",
    "        if a == b:\n",
    "            result.append(a)\n",
    "            \n",
    "print(result)          \n",
    "\n",
    "#using comprehensions.\n",
    "common_num = [a for a in list1 for b in list2 if a==b]\n",
    "print(common_num)\n",
    "diff_num = [(a,b) for a in list1 for b in list2 if a!=b] \n",
    "print(diff_num)\n"
   ]
  },
  {
   "cell_type": "markdown",
   "metadata": {},
   "source": [
    "In this statement \"results = [a for a in list1 for b in list2 if a==b]\", The 'a' in the beginning is the object which is being returned. \n",
    "To return numbers which are are not equal as a tuple: \"diff_num = [(a,b) for a in list1 for b in list2 if a!=b]\", (a,b) were being returned to list when they satisfy a!=b condition."
   ]
  },
  {
   "cell_type": "code",
   "execution_count": 18,
   "metadata": {},
   "outputs": [
    {
     "name": "stdout",
     "output_type": "stream",
     "text": [
      "['hello', 'world', 'in', 'python']\n"
     ]
    }
   ],
   "source": [
    "words = [\"hello\", \"world\", \"in\", \"python\"] \n",
    "print([s.lower() for s in words]) #list comprehension to iterate over string elements"
   ]
  }
 ],
 "metadata": {
  "kernelspec": {
   "display_name": "Python 2",
   "language": "python",
   "name": "python2"
  },
  "language_info": {
   "codemirror_mode": {
    "name": "ipython",
    "version": 2
   },
   "file_extension": ".py",
   "mimetype": "text/x-python",
   "name": "python",
   "nbconvert_exporter": "python",
   "pygments_lexer": "ipython2",
   "version": "2.7.18"
  }
 },
 "nbformat": 4,
 "nbformat_minor": 2
}
