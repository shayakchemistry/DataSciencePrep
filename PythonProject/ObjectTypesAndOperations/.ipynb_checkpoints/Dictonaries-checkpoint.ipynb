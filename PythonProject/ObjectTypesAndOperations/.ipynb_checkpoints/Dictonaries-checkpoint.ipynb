{
 "cells": [
  {
   "cell_type": "markdown",
   "metadata": {},
   "source": [
    "Dictionary is an unordered collection of data values, used to store data values like a map. Dictionary holds key:value pairs."
   ]
  },
  {
   "cell_type": "code",
   "execution_count": 5,
   "metadata": {},
   "outputs": [
    {
     "name": "stdout",
     "output_type": "stream",
     "text": [
      "eggs\n",
      "5\n"
     ]
    }
   ],
   "source": [
    "D = {'food': 'eggs', 'quantity': 4, 'color': 'white'}\n",
    "print(D['food'])\n",
    "D['quantity'] += 1\n",
    "print(D['quantity'])"
   ]
  },
  {
   "cell_type": "code",
   "execution_count": 7,
   "metadata": {},
   "outputs": [
    {
     "name": "stdout",
     "output_type": "stream",
     "text": [
      "{'last': 'Smith', 'first': 'Bob'}\n",
      "Smith\n"
     ]
    }
   ],
   "source": [
    "rec = {'name': {'first': 'Bob', 'last': 'Smith'},\n",
    "'job': ['dev', 'mgr'],\n",
    "'age': 40.5}\n",
    "print(rec['name'])\n",
    "print(rec['name']['last'])"
   ]
  },
  {
   "cell_type": "code",
   "execution_count": 10,
   "metadata": {},
   "outputs": [
    {
     "name": "stdout",
     "output_type": "stream",
     "text": [
      "['a', 'c', 'b']\n",
      "['a', 'b', 'c']\n",
      "missing\n"
     ]
    }
   ],
   "source": [
    "D = {'a': 1, 'b': 2, 'c': 3}\n",
    "print(D.keys())\n",
    "print(sorted(D))            #sorting keys in dictionary\n",
    "if not 'f' in D:            #finiding missing key in dict\n",
    "    print('missing')"
   ]
  }
 ],
 "metadata": {
  "kernelspec": {
   "display_name": "Python 2",
   "language": "python",
   "name": "python2"
  },
  "language_info": {
   "codemirror_mode": {
    "name": "ipython",
    "version": 2
   },
   "file_extension": ".py",
   "mimetype": "text/x-python",
   "name": "python",
   "nbconvert_exporter": "python",
   "pygments_lexer": "ipython2",
   "version": "2.7.18"
  }
 },
 "nbformat": 4,
 "nbformat_minor": 2
}
