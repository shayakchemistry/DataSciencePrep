{
 "cells": [
  {
   "cell_type": "markdown",
   "metadata": {},
   "source": [
    "Tuples are immutable sequences. "
   ]
  },
  {
   "cell_type": "code",
   "execution_count": 7,
   "metadata": {},
   "outputs": [
    {
     "name": "stdout",
     "output_type": "stream",
     "text": [
      "4\n",
      "(1, 2, 3, 4, 5, 6)\n",
      "1\n",
      "2\n",
      "22\n",
      "('python', 'python', 'python')\n",
      "(0, 1, 2)\n",
      "('p', 'y', 't', 'h', 'o', 'n')\n"
     ]
    }
   ],
   "source": [
    "T = (1, 2, 3, 4)\n",
    "print(len(T))    #len\n",
    "print(T+(5,6))   #concatination of tuples\n",
    "print(T[0])\n",
    "print(T.index(3))\n",
    "T = ('spam', 3.0, [11, 22, 33])\n",
    "print(T[2][1])\n",
    "tuple3 = ('python',)*3   # Code to create a tuple with repetition\n",
    "print(tuple3)\n",
    "\n",
    "list1 = [0, 1, 2]    #converting list to typle\n",
    "print(tuple(list1))\n",
    "print(tuple('python'))"
   ]
  }
 ],
 "metadata": {
  "kernelspec": {
   "display_name": "Python 2",
   "language": "python",
   "name": "python2"
  },
  "language_info": {
   "codemirror_mode": {
    "name": "ipython",
    "version": 2
   },
   "file_extension": ".py",
   "mimetype": "text/x-python",
   "name": "python",
   "nbconvert_exporter": "python",
   "pygments_lexer": "ipython2",
   "version": "2.7.18"
  }
 },
 "nbformat": 4,
 "nbformat_minor": 2
}
