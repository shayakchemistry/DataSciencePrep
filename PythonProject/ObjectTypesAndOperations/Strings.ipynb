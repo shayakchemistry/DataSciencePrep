{
 "cells": [
  {
   "cell_type": "markdown",
   "metadata": {},
   "source": [
    "# Strings "
   ]
  },
  {
   "cell_type": "raw",
   "metadata": {},
   "source": [
    "Strings are used to record textual information as well as arbitrary collections of bytes.strings are sequences of one-character strings.\n"
   ]
  },
  {
   "cell_type": "raw",
   "metadata": {},
   "source": [
    "Sequence Operations:\n"
   ]
  },
  {
   "cell_type": "code",
   "execution_count": 30,
   "metadata": {},
   "outputs": [
    {
     "name": "stdout",
     "output_type": "stream",
     "text": [
      "12\n",
      "a\n",
      "n\n"
     ]
    }
   ],
   "source": [
    "s = \"Learn Python\"\n",
    "print(len(s))  #Length\n",
    "print(s[2])    #prints second character of s\n",
    "print(s[-1])   #Print last character of s"
   ]
  },
  {
   "cell_type": "code",
   "execution_count": 11,
   "metadata": {},
   "outputs": [
    {
     "name": "stdout",
     "output_type": "stream",
     "text": [
      "earn Python\n",
      "Lea\n",
      "Learn Pytho\n"
     ]
    }
   ],
   "source": [
    "print(s[1:])  #returns everything past 1\n",
    "print(s[:3])  #returns from start to 3 position of S\n",
    "print(s[:-1]) #returns from start to last character of s\n"
   ]
  },
  {
   "cell_type": "code",
   "execution_count": 17,
   "metadata": {},
   "outputs": [
    {
     "name": "stdout",
     "output_type": "stream",
     "text": [
      "Learn Python for Data Science\n",
      "Learn Python\n",
      "Learn PythonLearn Python\n"
     ]
    }
   ],
   "source": [
    "print(s+\" for Data Science\") #concatenation\n",
    "print(s)  #s is unchanged\n",
    "print(s * 2) #repeats the string by two times."
   ]
  },
  {
   "cell_type": "markdown",
   "metadata": {},
   "source": [
    "Immutability:\n",
    "Strings are immutable; In python we can run expressions on top of them to create new one with same name."
   ]
  },
  {
   "cell_type": "code",
   "execution_count": 18,
   "metadata": {},
   "outputs": [
    {
     "ename": "TypeError",
     "evalue": "'str' object does not support item assignment",
     "output_type": "error",
     "traceback": [
      "\u001b[0;31m-----------------------------------------------------------------\u001b[0m",
      "\u001b[0;31mTypeError\u001b[0m                       Traceback (most recent call last)",
      "\u001b[0;32m<ipython-input-18-314adf0dad47>\u001b[0m in \u001b[0;36m<module>\u001b[0;34m\u001b[0m\n\u001b[0;32m----> 1\u001b[0;31m \u001b[0ms\u001b[0m\u001b[0;34m[\u001b[0m\u001b[0;36m0\u001b[0m\u001b[0;34m]\u001b[0m \u001b[0;34m=\u001b[0m \u001b[0;34m''\u001b[0m\u001b[0;34m\u001b[0m\u001b[0;34m\u001b[0m\u001b[0m\n\u001b[0m",
      "\u001b[0;31mTypeError\u001b[0m: 'str' object does not support item assignment"
     ]
    }
   ],
   "source": [
    "s[0] = '' # "
   ]
  },
  {
   "cell_type": "code",
   "execution_count": 32,
   "metadata": {},
   "outputs": [
    {
     "name": "stdout",
     "output_type": "stream",
     "text": [
      "arn Python\n"
     ]
    }
   ],
   "source": [
    "s = s[1:] # creating new string with same name by running operations on S.\n",
    "print(s)\n"
   ]
  },
  {
   "cell_type": "markdown",
   "metadata": {},
   "source": [
    "Type specific Methods:\n",
    "find\n",
    "replace\n",
    "split\n",
    "upper\n",
    "isalpha\n",
    "rstrip"
   ]
  },
  {
   "cell_type": "code",
   "execution_count": 35,
   "metadata": {},
   "outputs": [
    {
     "name": "stdout",
     "output_type": "stream",
     "text": [
      "4\n",
      "arn Python\n",
      "arn Python\n"
     ]
    }
   ],
   "source": [
    "print(s.find(\"P\"))\n",
    "print(s)\n",
    "s.replace('o', '0')\n",
    "print(s)"
   ]
  },
  {
   "cell_type": "code",
   "execution_count": 38,
   "metadata": {},
   "outputs": [
    {
     "name": "stdout",
     "output_type": "stream",
     "text": [
      "aaa,bbb,ccc,ddd \n",
      "['aaa', 'bbb', 'ccc', 'ddd ']\n",
      "arn Python\n",
      "False\n"
     ]
    }
   ],
   "source": [
    "line = 'aaa,bbb,ccc,ddd '\n",
    "print(line)\n",
    "line.rstrip\n",
    "print(line.split(','))\n",
    "s.upper()\n",
    "print(s)\n",
    "print(s.isalpha())"
   ]
  }
 ],
 "metadata": {
  "kernelspec": {
   "display_name": "Python 2",
   "language": "python",
   "name": "python2"
  },
  "language_info": {
   "codemirror_mode": {
    "name": "ipython",
    "version": 2
   },
   "file_extension": ".py",
   "mimetype": "text/x-python",
   "name": "python",
   "nbconvert_exporter": "python",
   "pygments_lexer": "ipython2",
   "version": "2.7.18"
  }
 },
 "nbformat": 4,
 "nbformat_minor": 5
}
