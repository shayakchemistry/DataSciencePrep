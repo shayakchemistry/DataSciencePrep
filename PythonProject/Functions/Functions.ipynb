{
 "cells": [
  {
   "cell_type": "code",
   "execution_count": 1,
   "metadata": {},
   "outputs": [
    {
     "name": "stdout",
     "output_type": "stream",
     "text": [
      "Hello World\n",
      "25\n"
     ]
    }
   ],
   "source": [
    "def echo(text):\n",
    "    print(text)\n",
    "    \n",
    "echo(\"Hello World\")\n",
    "\n",
    "def squareNum(val):      #functions returning square\n",
    "    return val**2\n",
    "\n",
    "print(squareNum(5))"
   ]
  },
  {
   "cell_type": "markdown",
   "metadata": {},
   "source": [
    "# Call by Reference and Call by value\n",
    "In python every variable name is a reference. Python uses call by object reference. If we pass immutable objects like whole numbers, strings or tuples to a function, the passing is like call-by-value because you can not change the value of the immutable objects being passed to the function. Whereas passing mutable objects can be considered as call by reference because when their values are changed inside the function, then it will also be reflected outside the function. "
   ]
  },
  {
   "cell_type": "markdown",
   "metadata": {},
   "source": [
    "call by value"
   ]
  },
  {
   "cell_type": "code",
   "execution_count": 2,
   "metadata": {},
   "outputs": [
    {
     "name": "stdout",
     "output_type": "stream",
     "text": [
      "Inside the function: world\n",
      "Outside the function: hello\n"
     ]
    }
   ],
   "source": [
    "s = \"hello\"\n",
    "def test(s):\n",
    "    s = \"world\"\n",
    "    print(\"Inside the function:\",s)\n",
    "test(s)\n",
    "print(\"Outside the function:\",s)"
   ]
  },
  {
   "cell_type": "markdown",
   "metadata": {},
   "source": [
    "Call by reference"
   ]
  },
  {
   "cell_type": "code",
   "execution_count": 3,
   "metadata": {},
   "outputs": [
    {
     "name": "stdout",
     "output_type": "stream",
     "text": [
      "Value inside the function:  [10, 20, [11, 12, 13, 14, 15]]\n",
      "Value outside the function:  [10, 20, [11, 12, 13, 14, 15]]\n"
     ]
    }
   ],
   "source": [
    "def marks(list):\n",
    "    list.append([11, 12, 13, 14, 15])\n",
    "    print(\"Value inside the function: \", list)\n",
    "    return\n",
    "list = [10,20]\n",
    "marks(list)\n",
    "print(\"Value outside the function: \", list)"
   ]
  },
  {
   "cell_type": "markdown",
   "metadata": {},
   "source": [
    "# Indirect function calls\n",
    "As functions are objects in python we can assign them to variables, pass to another functions, embed in data structures. "
   ]
  },
  {
   "cell_type": "code",
   "execution_count": 4,
   "metadata": {},
   "outputs": [
    {
     "name": "stdout",
     "output_type": "stream",
     "text": [
      "Hola\n",
      "hey\n"
     ]
    }
   ],
   "source": [
    "echo(\"Hola\") # Call object through original name\n",
    "\n",
    "shout = echo  # shout is refering echo function,\n",
    "shout(\"hey\")  # Call object through name by adding ()"
   ]
  },
  {
   "cell_type": "code",
   "execution_count": 5,
   "metadata": {},
   "outputs": [
    {
     "name": "stdout",
     "output_type": "stream",
     "text": [
      "Argument call!\n"
     ]
    }
   ],
   "source": [
    "def indirect(func, arg):\n",
    "    func(arg)               # calling function by adding() and passing those agrs\n",
    "\n",
    "indirect(echo, 'Argument call!')   # passing one function to another as argument\n",
    "    "
   ]
  },
  {
   "cell_type": "markdown",
   "metadata": {},
   "source": [
    "# Higher order functions"
   ]
  },
  {
   "cell_type": "code",
   "execution_count": 4,
   "metadata": {},
   "outputs": [
    {
     "name": "stdout",
     "output_type": "stream",
     "text": [
      "4\n",
      "2\n"
     ]
    }
   ],
   "source": [
    "def inc(x):\n",
    "    return x + 1\n",
    "\n",
    "\n",
    "def dec(x):\n",
    "    return x - 1\n",
    "\n",
    "\n",
    "def operate(func, x):\n",
    "    result = func(x)\n",
    "    return result\n",
    "\n",
    "print(operate(inc,3))\n",
    "print(operate(dec,3))\n",
    "\n"
   ]
  },
  {
   "cell_type": "markdown",
   "metadata": {},
   "source": [
    "# Functions returning functions"
   ]
  },
  {
   "cell_type": "code",
   "execution_count": 5,
   "metadata": {},
   "outputs": [
    {
     "name": "stdout",
     "output_type": "stream",
     "text": [
      "Hello\n"
     ]
    }
   ],
   "source": [
    "def is_called():\n",
    "    def is_returned():\n",
    "        print(\"Hello\")\n",
    "    return is_returned\n",
    "\n",
    "\n",
    "new = is_called()\n",
    "\n",
    "# Outputs \"Hello\"\n",
    "new()"
   ]
  },
  {
   "cell_type": "markdown",
   "metadata": {},
   "source": [
    "# Anonymous Functions: lambda\n",
    "If a function is defined anonymouly without name. The regular functions are defined with def keyword and name. In Python anaymous functions are defined with lamda keyword.\n",
    "Syntax: \n",
    "lambda argument1, argument2,... argumentN :expression using arguments"
   ]
  },
  {
   "cell_type": "code",
   "execution_count": 6,
   "metadata": {},
   "outputs": [
    {
     "name": "stdout",
     "output_type": "stream",
     "text": [
      "9\n",
      "6\n"
     ]
    }
   ],
   "source": [
    "#regular function\n",
    "def func(x, y, z): \n",
    "    return x + y + z\n",
    "\n",
    "res = func(2, 3, 4)\n",
    "print (res)\n",
    "\n",
    "#lambda\n",
    "f = lambda x, y, z: x + y + z\n",
    "res = f(1,2,3)\n",
    "print (res)"
   ]
  },
  {
   "cell_type": "code",
   "execution_count": 7,
   "metadata": {},
   "outputs": [
    {
     "data": {
      "text/plain": [
       "102"
      ]
     },
     "execution_count": 7,
     "metadata": {},
     "output_type": "execute_result"
    }
   ],
   "source": [
    "#nested lambda's\n",
    "action = (lambda x: (lambda y: x + y))\n",
    "act = action(99)\n",
    "act(3)"
   ]
  },
  {
   "cell_type": "markdown",
   "metadata": {},
   "source": [
    "Filters and reduce"
   ]
  },
  {
   "cell_type": "code",
   "execution_count": 8,
   "metadata": {},
   "outputs": [
    {
     "data": {
      "text/plain": [
       "[1, 2, 3, 4]"
      ]
     },
     "execution_count": 8,
     "metadata": {},
     "output_type": "execute_result"
    }
   ],
   "source": [
    "l = list(range(-5,5))\n",
    "list(filter((lambda x: x > 0), l)) "
   ]
  },
  {
   "cell_type": "code",
   "execution_count": 10,
   "metadata": {},
   "outputs": [
    {
     "data": {
      "text/plain": [
       "10"
      ]
     },
     "execution_count": 10,
     "metadata": {},
     "output_type": "execute_result"
    }
   ],
   "source": [
    "from functools import reduce\n",
    "reduce((lambda x, y: x + y), [1, 2, 3, 4])"
   ]
  }
 ],
 "metadata": {
  "kernelspec": {
   "display_name": "Python 3",
   "language": "python",
   "name": "python3"
  },
  "language_info": {
   "codemirror_mode": {
    "name": "ipython",
    "version": 3
   },
   "file_extension": ".py",
   "mimetype": "text/x-python",
   "name": "python",
   "nbconvert_exporter": "python",
   "pygments_lexer": "ipython3",
   "version": "3.8.10"
  }
 },
 "nbformat": 4,
 "nbformat_minor": 2
}
