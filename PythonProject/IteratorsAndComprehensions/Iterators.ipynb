{
 "cells": [
  {
   "cell_type": "markdown",
   "metadata": {},
   "source": [
    "Iterator in python is an object that is used to iterate over iterable objects like lists, tuples, dicts, and sets.\n",
    "Iterable - an object is considered iterable if it is either a physically stored sequence or an object that produces one result at a time in the context of an iteration tool like a for loop."
   ]
  },
  {
   "cell_type": "code",
   "execution_count": 3,
   "metadata": {},
   "outputs": [
    {
     "name": "stdout",
     "output_type": "stream",
     "text": [
      "1\n"
     ]
    }
   ],
   "source": [
    "L = [1, 2, 3]\n",
    "I = iter(L)\n",
    "#In Python 2.6, the iteration method is named X.next() instead of X.__next__()\n",
    "print(next(I)) #when list has no objects left, it gives an exception"
   ]
  },
  {
   "cell_type": "code",
   "execution_count": 7,
   "metadata": {},
   "outputs": [
    {
     "name": "stdout",
     "output_type": "stream",
     "text": [
      "1\n",
      "4\n",
      "9\n"
     ]
    }
   ],
   "source": [
    "L = [1, 2, 3]\n",
    "I = iter(L)\n",
    "while True:\n",
    "    try:\n",
    "        X = next(I)\n",
    "    except StopIteration:\n",
    "        break\n",
    "    print(X ** 2)"
   ]
  },
  {
   "cell_type": "markdown",
   "metadata": {},
   "source": [
    "The enumerate() function assigns an index to each item in an iterable object that can be used to reference the item later. \n",
    "It makes it easier to keep track of the content of an iterable object."
   ]
  },
  {
   "cell_type": "code",
   "execution_count": 9,
   "metadata": {},
   "outputs": [
    {
     "name": "stdout",
     "output_type": "stream",
     "text": [
      "(0, 's')\n",
      "[(0, 's'), (1, 'p'), (2, 'a'), (3, 'm')]\n"
     ]
    }
   ],
   "source": [
    "E = enumerate('spam')\n",
    "I = iter(E)\n",
    "print(next(I))\n",
    "l = list(enumerate('spam'))\n",
    "print(l)"
   ]
  }
 ],
 "metadata": {
  "kernelspec": {
   "display_name": "Python 2",
   "language": "python",
   "name": "python2"
  },
  "language_info": {
   "codemirror_mode": {
    "name": "ipython",
    "version": 2
   },
   "file_extension": ".py",
   "mimetype": "text/x-python",
   "name": "python",
   "nbconvert_exporter": "python",
   "pygments_lexer": "ipython2",
   "version": "2.7.18"
  }
 },
 "nbformat": 4,
 "nbformat_minor": 2
}
