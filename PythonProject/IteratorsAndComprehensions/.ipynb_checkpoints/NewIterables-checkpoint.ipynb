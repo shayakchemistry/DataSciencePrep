{
 "cells": [
  {
   "cell_type": "markdown",
   "metadata": {},
   "source": [
    "Python 3.x has more emphasis on iterable than 2.x. Built functions like range, filter, map and zip returns iterators and process them. "
   ]
  },
  {
   "cell_type": "markdown",
   "metadata": {},
   "source": [
    "# Range\n",
    "Range functions returns a iterator that generates series of numbers in a given range. Range supports only iteration, indexing and len function.\n",
    "range(stop) takes one argument.\n",
    "range(start, stop) takes two arguments.\n",
    "range(start, stop, step) takes three arguments"
   ]
  },
  {
   "cell_type": "code",
   "execution_count": 6,
   "metadata": {},
   "outputs": [
    {
     "name": "stdout",
     "output_type": "stream",
     "text": [
      "range(0, 10)\n",
      "0\n",
      "1\n",
      "2\n",
      "[0, 1, 2, 3, 4, 5, 6, 7, 8, 9]\n"
     ]
    }
   ],
   "source": [
    "R = range(10)\n",
    "print(R) #range returns an iterator.\n",
    "I = iter(R)\n",
    "print(next(I))\n",
    "print(next(I))\n",
    "print(next(I))\n",
    "print(list(range(10)))"
   ]
  },
  {
   "cell_type": "markdown",
   "metadata": {},
   "source": [
    "# Map\n",
    "Map is a built in function that allows processing and transforming all items in iterable without explicitly using loops.\n",
    "map(function, iterable[, iterable1, iterable2,..., iterableN])"
   ]
  },
  {
   "cell_type": "code",
   "execution_count": 14,
   "metadata": {},
   "outputs": [
    {
     "name": "stdout",
     "output_type": "stream",
     "text": [
      "<map object at 0x7f9870727d60>\n",
      "1\n",
      "0\n",
      "1\n",
      "[1, 0, 1]\n"
     ]
    }
   ],
   "source": [
    "M = map(abs, (-1, 0, 1))\n",
    "print(M)\n",
    "print(next(M))\n",
    "print(next(M))\n",
    "print(next(M))\n",
    "print(list(map(abs, (-1, 0, 1))))"
   ]
  },
  {
   "cell_type": "markdown",
   "metadata": {},
   "source": [
    "# Zip\n",
    "Zip function takes one or more iterables as inputs and returns iterators of tuple which has aggregated elements of iterables which were passed as inputs.\n",
    "zip(*Iterables)"
   ]
  },
  {
   "cell_type": "code",
   "execution_count": 19,
   "metadata": {},
   "outputs": [
    {
     "name": "stdout",
     "output_type": "stream",
     "text": [
      "[(1, 10), (2, 20), (3, 30)]\n",
      "[(1,), (2,), (3,)]\n",
      "[]\n",
      "[(1, 1), (2, 2)]\n"
     ]
    }
   ],
   "source": [
    "z = zip((1,2,3), (10,20,30))\n",
    "print(list(z)) # returns iterators of tuples, In which each each tuple has elements of iterables.\n",
    "z1 = zip((1,2,3)) # returns iterators of tuples having one element.\n",
    "print(list(z1)) \n",
    "z2 = zip()\n",
    "print(list(z2)) # returns an empty iterable\n",
    "z3 = zip((1,2,3), (1,2)) # iterator stops when shorted iterable is exhausted. \n",
    "print(list(z3))"
   ]
  },
  {
   "cell_type": "markdown",
   "metadata": {},
   "source": [
    "# Filter\n",
    "The filter() method constructs an iterator from elements of an iterable for which a function returns true.\n",
    "filter(function, iterable)"
   ]
  },
  {
   "cell_type": "code",
   "execution_count": 21,
   "metadata": {},
   "outputs": [
    {
     "name": "stdout",
     "output_type": "stream",
     "text": [
      "[0, 2, 4]\n"
     ]
    }
   ],
   "source": [
    "print(list(filter((lambda x: x % 2 == 0), range(5))))"
   ]
  },
  {
   "cell_type": "code",
   "execution_count": 20,
   "metadata": {},
   "outputs": [
    {
     "name": "stdout",
     "output_type": "stream",
     "text": [
      "The filtered vowels are:\n",
      "a\n",
      "e\n",
      "i\n",
      "o\n"
     ]
    }
   ],
   "source": [
    "# list of letters\n",
    "letters = ['a', 'b', 'd', 'e', 'i', 'j', 'o']\n",
    "\n",
    "# function that filters vowels\n",
    "def filter_vowels(letter):\n",
    "    vowels = ['a', 'e', 'i', 'o', 'u']\n",
    "\n",
    "    if(letter in vowels):\n",
    "        return True\n",
    "    else:\n",
    "        return False\n",
    "\n",
    "filtered_vowels = filter(filter_vowels, letters)\n",
    "\n",
    "print('The filtered vowels are:')\n",
    "for vowel in filtered_vowels:\n",
    "    print(vowel)"
   ]
  }
 ],
 "metadata": {
  "kernelspec": {
   "display_name": "Python 3",
   "language": "python",
   "name": "python3"
  },
  "language_info": {
   "codemirror_mode": {
    "name": "ipython",
    "version": 3
   },
   "file_extension": ".py",
   "mimetype": "text/x-python",
   "name": "python",
   "nbconvert_exporter": "python",
   "pygments_lexer": "ipython3",
   "version": "3.8.5"
  }
 },
 "nbformat": 4,
 "nbformat_minor": 2
}
