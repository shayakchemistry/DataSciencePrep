{
 "cells": [
  {
   "cell_type": "markdown",
   "metadata": {},
   "source": [
    "# Enumerators\n",
    "The enumerate() function assigns an index to each item in an iterable object that can be used to reference the item later. This enumerate object can then be used directly in for loops or be converted into a list of tuples using list() method.\n",
    "\n",
    "Syntax:\n",
    "enumerate(iterable, start=0)\n",
    "\n",
    "Parameters:\n",
    "Iterable: any object that supports iteration\n",
    "Start: the index value from which the counter is \n",
    "              to be started, by default it is 0"
   ]
  },
  {
   "cell_type": "code",
   "execution_count": 7,
   "metadata": {},
   "outputs": [
    {
     "name": "stdout",
     "output_type": "stream",
     "text": [
      "[(0, 'eat'), (1, 'code'), (2, 'sleep')]\n",
      "[(2, 'H'), (3, 'e'), (4, 'l'), (5, 'l'), (6, 'o')]\n"
     ]
    }
   ],
   "source": [
    "l = [\"eat\",\"code\",\"sleep\"]\n",
    "s = \"Hello\"\n",
    "\n",
    "print (list(enumerate(l)))    \n",
    "print (list(enumerate(s,2)))\n"
   ]
  },
  {
   "cell_type": "markdown",
   "metadata": {},
   "source": [
    "# Generators\n",
    "Python provides a generator to create your own iterator function. A generator is a special type of function which does not return a single value, instead, it returns an iterator object with a sequence of values. In a generator function, a yield statement is used rather than a return statement.\n",
    "\n",
    "When a generator is called its returns and object but doesn't start execution. Once the function yields, the function is paused and the control is transferred to the caller.\n",
    "\n",
    "Return sends a specified value back to its caller whereas Yield can produce a sequence of values. We should use yield when we want to iterate over a sequence, but don’t want to store the entire sequence in memory."
   ]
  },
  {
   "cell_type": "code",
   "execution_count": 10,
   "metadata": {
    "scrolled": false
   },
   "outputs": [
    {
     "name": "stdout",
     "output_type": "stream",
     "text": [
      "2\n",
      "3\n",
      "5\n",
      "7\n",
      "None\n"
     ]
    }
   ],
   "source": [
    "def gen_prime(n):\n",
    "    if n > 1:\n",
    "        for i in range(2, n):\n",
    "            flag = False\n",
    "            for j in range(2, i):\n",
    "                if (i % j) == 0:\n",
    "                    flag = True\n",
    "                    break\n",
    "\n",
    "            if flag:\n",
    "                continue\n",
    "            else:\n",
    "                yield i\n",
    "\n",
    "\n",
    "gp = gen_prime(10)\n",
    "print(next(gp))\n",
    "print(next(gp))\n",
    "print(next(gp))\n",
    "print(next(gp))\n",
    "print(next(gp, None)) #to avoid stop iteration use a default value."
   ]
  },
  {
   "cell_type": "markdown",
   "metadata": {},
   "source": [
    "Generator expressions are just like normal list comprehensions, but they are enclosed in parentheses instead of square brackets:"
   ]
  },
  {
   "cell_type": "code",
   "execution_count": 13,
   "metadata": {},
   "outputs": [
    {
     "data": {
      "text/plain": [
       "[0, 1, 4, 9]"
      ]
     },
     "execution_count": 13,
     "metadata": {},
     "output_type": "execute_result"
    }
   ],
   "source": [
    "[x ** 2 for x in range(4)] # List comprehension: build a list"
   ]
  },
  {
   "cell_type": "code",
   "execution_count": 11,
   "metadata": {},
   "outputs": [
    {
     "data": {
      "text/plain": [
       "<generator object <genexpr> at 0x7fb5406a3740>"
      ]
     },
     "execution_count": 11,
     "metadata": {},
     "output_type": "execute_result"
    }
   ],
   "source": [
    "(x ** 2 for x in range(4)) # Generator expression: make an iterable"
   ]
  },
  {
   "cell_type": "markdown",
   "metadata": {},
   "source": [
    "list comprehension is essentially the same as wrapping a generator expression in a list built-in call to force it to produce all its results in a list at once:"
   ]
  },
  {
   "cell_type": "code",
   "execution_count": 14,
   "metadata": {},
   "outputs": [
    {
     "data": {
      "text/plain": [
       "[0, 1, 4, 9]"
      ]
     },
     "execution_count": 14,
     "metadata": {},
     "output_type": "execute_result"
    }
   ],
   "source": [
    "list(x ** 2 for x in range(4)) # List comprehension equivalence"
   ]
  }
 ],
 "metadata": {
  "kernelspec": {
   "display_name": "Python 3",
   "language": "python",
   "name": "python3"
  },
  "language_info": {
   "codemirror_mode": {
    "name": "ipython",
    "version": 3
   },
   "file_extension": ".py",
   "mimetype": "text/x-python",
   "name": "python",
   "nbconvert_exporter": "python",
   "pygments_lexer": "ipython3",
   "version": "3.8.5"
  }
 },
 "nbformat": 4,
 "nbformat_minor": 2
}
